{
 "cells": [
  {
   "cell_type": "markdown",
   "metadata": {},
   "source": [
    "/**\n",
    "* @par Copyright (C): 2010-2020, Shenzhen Yahboom Tech\n",
    "* @file:         Ultrasonic+IR avoid.ipynb\n",
    "* @author:       xiaozhen\n",
    "* @version：     V1.0\n",
    "* @date:         2020.10.11\n",
    "* @brief:        .Ultrasonic+IR avoid function\n",
    "* @details:\n",
    "* @par History:  Description below\n",
    "*/"
   ]
  },
  {
   "cell_type": "markdown",
   "metadata": {},
   "source": [
    "### Import library"
   ]
  },
  {
   "cell_type": "code",
   "execution_count": 11,
   "metadata": {},
   "outputs": [],
   "source": [
    "#-*- coding:UTF-8 -*-\n",
    "import RPi.GPIO as GPIO\n",
    "import time\n",
    "import YB_Pcb_Car   \n",
    "\n",
    "car = YB_Pcb_Car.YB_Pcb_Car()"
   ]
  },
  {
   "cell_type": "markdown",
   "metadata": {},
   "source": [
    "### Define the pins used in this course.\n",
    "### Set the coding method of GPIO and initial settings."
   ]
  },
  {
   "cell_type": "code",
   "execution_count": 12,
   "metadata": {},
   "outputs": [],
   "source": [
    "#Set the GPIO port to BIARD encoding mode\n",
    "GPIO.setmode(GPIO.BOARD)\n",
    "\n",
    "#Ignore the warning message\n",
    "GPIO.setwarnings(False)\n",
    "\n",
    "AvoidSensorLeft = 21     #Left infrared obstacle avoidance sensor pin\n",
    "AvoidSensorRight = 19    #Right infrared obstacle avoidance sensor pin\n",
    "Avoid_ON = 22   #Infrared obstacle avoidance sensor switch pin\n",
    "\n",
    "#Define the pins of the ultrasonic module\n",
    "EchoPin = 18\n",
    "TrigPin = 16\n",
    "\n",
    "#Set pin mode\n",
    "GPIO.setup(AvoidSensorLeft,GPIO.IN)\n",
    "GPIO.setup(AvoidSensorRight,GPIO.IN)\n",
    "GPIO.setup(Avoid_ON,GPIO.OUT)\n",
    "GPIO.setup(EchoPin,GPIO.IN)\n",
    "GPIO.setup(TrigPin,GPIO.OUT)\n",
    "GPIO.output(Avoid_ON,GPIO.HIGH)"
   ]
  },
  {
   "cell_type": "code",
   "execution_count": 13,
   "metadata": {},
   "outputs": [],
   "source": [
    "#Ultrasonic function\n",
    "def Distance():\n",
    "    GPIO.output(TrigPin,GPIO.LOW)\n",
    "    time.sleep(0.000002)\n",
    "    GPIO.output(TrigPin,GPIO.HIGH)\n",
    "    time.sleep(0.000015)\n",
    "    GPIO.output(TrigPin,GPIO.LOW)\n",
    "\n",
    "    t3 = time.time()\n",
    "\n",
    "    while not GPIO.input(EchoPin):\n",
    "        t4 = time.time()\n",
    "        if (t4 - t3) > 0.03 :\n",
    "            return -1\n",
    "    t1 = time.time()\n",
    "    while GPIO.input(EchoPin):\n",
    "        t5 = time.time()\n",
    "        if(t5 - t1) > 0.03 :\n",
    "            return -1\n",
    "\n",
    "    t2 = time.time()\n",
    "    #time.sleep(0.01)\n",
    "    #print (\"distance_1 is %d \" % (((t2 - t1)* 340 / 2) * 100))\n",
    "    return ((t2 - t1)* 340 / 2) * 100\n"
   ]
  },
  {
   "cell_type": "code",
   "execution_count": 14,
   "metadata": {},
   "outputs": [],
   "source": [
    "def Distance_test():\n",
    "    num = 0\n",
    "    ultrasonic = []\n",
    "    while num < 5:\n",
    "            distance = Distance()\n",
    "            #print(\"distance is %f\"%(distance) )\n",
    "            while int(distance) == -1 :\n",
    "                distance = Distance()\n",
    "                #print(\"Tdistance is %f\"%(distance) )\n",
    "            while (int(distance) >= 500 or int(distance) == 0) :\n",
    "                distance = Distance()\n",
    "                #print(\"Edistance is %f\"%(distance) )\n",
    "            ultrasonic.append(distance)\n",
    "            num = num + 1\n",
    "            #time.sleep(0.01)\n",
    "    #print ('ultrasonic')\n",
    "    distance = (ultrasonic[1] + ultrasonic[2] + ultrasonic[3])/3\n",
    "    #print(\"distance is %f\"%(distance) ) \n",
    "    return distance"
   ]
  },
  {
   "cell_type": "markdown",
   "metadata": {},
   "source": [
    "### Avoid function is used to complete the infrared obstacle avoidance function of the car"
   ]
  },
  {
   "cell_type": "code",
   "execution_count": 15,
   "metadata": {},
   "outputs": [
    {
     "data": {
      "application/vnd.jupyter.widget-view+json": {
       "model_id": "18a5b9ca8eef4997b279594acea8e3e5",
       "version_major": 2,
       "version_minor": 0
      },
      "text/plain": [
       "Image(value=b'', format='jpeg', height='500', width='600')"
      ]
     },
     "metadata": {},
     "output_type": "display_data"
    }
   ],
   "source": [
    "import cv2\n",
    "import ipywidgets.widgets as widgets\n",
    "import threading\n",
    "import time\n",
    "\n",
    "image_widget = widgets.Image(format='jpeg', width=600, height=500)  \n",
    "display(image_widget)  "
   ]
  },
  {
   "cell_type": "code",
   "execution_count": 16,
   "metadata": {},
   "outputs": [],
   "source": [
    "def avoid():\n",
    "    distance = Distance_test()\n",
    "    # modified\n",
    "    LeftSensorValue  =  GPIO.input(AvoidSensorLeft);\n",
    "    RightSensorValue =  GPIO.input(AvoidSensorRight);\n",
    "    print(f\"right value : {RightSensorValue}, left value : {LeftSensorValue}, distance : {distance}\")\n",
    "   \n",
    "    \n",
    "    #With obstacle pin is low level, the indicator light is on, without obstacle, pin is high level, the indicator light is off\n",
    "    if distance < 15 and LeftSensorValue == False and RightSensorValue == False :\n",
    "        car.Car_Stop() \n",
    "        time.sleep(0.1)\n",
    "        car.Car_Spin_Right(100,100) \n",
    "        time.sleep(1)\n",
    "    elif distance < 15 and LeftSensorValue == True and RightSensorValue == False :\n",
    "        car.Car_Stop()\n",
    "        time.sleep(0.1)\n",
    "        car.Car_Spin_Left(80,80) \n",
    "        time.sleep(1)\n",
    "        if LeftSensorValue == False and RightSensorValue == True :\n",
    "            car.Car_Stop()\n",
    "            time.sleep(0.1)\n",
    "            car.Car_Spin_Right(90,90) \n",
    "            time.sleep(2)\n",
    "    elif distance < 15 and LeftSensorValue == False and RightSensorValue == True :\n",
    "        car.Car_Stop() \n",
    "        time.sleep(0.1)\n",
    "        car.Car_Spin_Right(80,80)\n",
    "        time.sleep(1)\n",
    "        if LeftSensorValue == True and RightSensorValue == False  :\n",
    "            car.Car_Stop()\n",
    "            time.sleep(0.1)\n",
    "            car.Car_Spin_Left(90,90) \n",
    "            time.sleep(2)\n",
    "    elif distance < 15 and LeftSensorValue == True and RightSensorValue == True :\n",
    "        car.Car_Stop() \n",
    "        time.sleep(0.1)\n",
    "        car.Car_Spin_Right(80,80) \n",
    "        time.sleep(0.5)\n",
    "    elif distance >= 15 and LeftSensorValue == False and RightSensorValue == False :\n",
    "        car.Car_Stop() \n",
    "        time.sleep(0.1)\n",
    "        car.Car_Spin_Right(90,90) \n",
    "        time.sleep(1)\n",
    "    elif distance >= 15 and LeftSensorValue == False and RightSensorValue == True :\n",
    "        car.Car_Stop() \n",
    "        time.sleep(0.1)\n",
    "        car.Car_Spin_Right(80,80) \n",
    "        time.sleep(0.5)\n",
    "    elif distance >= 15 and LeftSensorValue == True and RightSensorValue == False : \n",
    "        car.Car_Stop() \n",
    "        time.sleep(0.1)\n",
    "        car.Car_Spin_Left(80,80) \n",
    "        time.sleep(0.5)\n",
    "    else:\n",
    "        car.Car_Run(100,100) \n",
    "    \n",
    "\n",
    "    print(f\"right value : {RightSensorValue}, left value : {LeftSensorValue}, distance : {distance}\")\n",
    "   \n",
    "   "
   ]
  },
  {
   "cell_type": "code",
   "execution_count": 17,
   "metadata": {},
   "outputs": [],
   "source": [
    "def run():\n",
    "    distance = Distance_test()\n",
    "    if(distance < 20):\n",
    "        car.Car_Stop()\n",
    "        time.sleep(0.1)\n",
    "        choice()\n",
    "        #time.sleep(1)\n",
    "    else:\n",
    "        modify();\n",
    "        #car.Car_Stop()\n",
    "        #time.sleep(0.1)\n",
    "        #car.Car_Run(50,50)\n",
    "        #time.sleep(1)\n",
    "        print(f\"distance = {distance}\")"
   ]
  },
  {
   "cell_type": "code",
   "execution_count": 18,
   "metadata": {},
   "outputs": [],
   "source": [
    "def choice():\n",
    "    LeftSensorValue  =  GPIO.input(AvoidSensorLeft)\n",
    "    RightSensorValue =  GPIO.input(AvoidSensorRight)\n",
    "   \n",
    "    #print(f\"right value : {RightSensorValue}, left value : {LeftSensorValue}\")\n",
    "    print(\"choice\")\n",
    "    car.Car_Spin_Left(160, 160)\n",
    "    time.sleep(0.3)\n",
    "    car.Car_Stop()\n",
    "    distance = Distance_test()\n",
    "    if(distance < 20):\n",
    "        print(\"right\")\n",
    "        car.Car_Spin_Right(160, 160)\n",
    "        time.sleep(0.6)\n",
    "        car.Car_Stop()\n",
    "        time.sleep(0.1)\n",
    "    \n",
    "    "
   ]
  },
  {
   "cell_type": "code",
   "execution_count": 19,
   "metadata": {},
   "outputs": [],
   "source": [
    "def modify():\n",
    "    LeftSensorValue  =  GPIO.input(AvoidSensorLeft);\n",
    "    RightSensorValue =  GPIO.input(AvoidSensorRight);\n",
    "    print(\"modi\")\n",
    "    if LeftSensorValue == True and RightSensorValue == False :\n",
    "        car.Car_Left(0,100) \n",
    "        time.sleep(0.2)\n",
    "        car.Car_Stop()\n",
    "       \n",
    "        #time.sleep(0.5)\n",
    "        #car.Car_Run(50,50)\n",
    "\n",
    "    elif LeftSensorValue == False and RightSensorValue == True :\n",
    "        car.Car_Right(100,0)\n",
    "        time.sleep(0.2)\n",
    "        car.Car_Stop() \n",
    "    else:  \n",
    "        car.Car_Run(150,150)\n",
    "        time.sleep(0.1)\n",
    "        #car.Car_Run(50,50)\n",
    "#     else:\n",
    "#         car.Car_Run(50,50)"
   ]
  },
  {
   "cell_type": "code",
   "execution_count": 20,
   "metadata": {},
   "outputs": [
    {
     "name": "stdout",
     "output_type": "stream",
     "text": [
      "modi\n",
      "distance = 368.82273356119794\n",
      "modi\n",
      "distance = 368.9889113108317\n",
      "modi\n",
      "distance = 40.27986526489258\n",
      "modi\n",
      "distance = 348.93274307250977\n",
      "modi\n",
      "distance = 35.822788874308266\n",
      "modi\n",
      "distance = 42.11052258809408\n",
      "modi\n",
      "distance = 98.9527702331543\n",
      "modi\n",
      "distance = 128.53376070658365\n",
      "modi\n",
      "distance = 129.07822926839194\n",
      "modi\n",
      "Ending\n"
     ]
    }
   ],
   "source": [
    "try:\n",
    "    while True:\n",
    "        run()\n",
    "        #avoid()\n",
    "except KeyboardInterrupt:\n",
    "    pass\n",
    "car.Car_Stop() \n",
    "del car\n",
    "print(\"Ending\")\n",
    "GPIO.cleanup()"
   ]
  },
  {
   "cell_type": "markdown",
   "metadata": {},
   "source": [
    "### When you need to end the entire program, please click the square button (Interrupt the kernel) in the upper menu bar.\n",
    "### Then you can see the Ending prompt, which means the program has been successfully ended"
   ]
  },
  {
   "cell_type": "code",
   "execution_count": null,
   "metadata": {},
   "outputs": [],
   "source": []
  },
  {
   "cell_type": "code",
   "execution_count": null,
   "metadata": {},
   "outputs": [],
   "source": []
  },
  {
   "cell_type": "code",
   "execution_count": null,
   "metadata": {},
   "outputs": [],
   "source": []
  },
  {
   "cell_type": "code",
   "execution_count": null,
   "metadata": {},
   "outputs": [],
   "source": []
  },
  {
   "cell_type": "code",
   "execution_count": null,
   "metadata": {},
   "outputs": [],
   "source": []
  },
  {
   "cell_type": "code",
   "execution_count": null,
   "metadata": {},
   "outputs": [],
   "source": []
  },
  {
   "cell_type": "code",
   "execution_count": null,
   "metadata": {},
   "outputs": [],
   "source": []
  }
 ],
 "metadata": {
  "kernelspec": {
   "display_name": "Python 3",
   "language": "python",
   "name": "python3"
  },
  "language_info": {
   "codemirror_mode": {
    "name": "ipython",
    "version": 3
   },
   "file_extension": ".py",
   "mimetype": "text/x-python",
   "name": "python",
   "nbconvert_exporter": "python",
   "pygments_lexer": "ipython3",
   "version": "3.7.3"
  }
 },
 "nbformat": 4,
 "nbformat_minor": 4
}
